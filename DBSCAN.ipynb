{
 "cells": [
  {
   "cell_type": "markdown",
   "metadata": {},
   "source": [
    "### This file locates the datapoints situated near the edges of the clusters, as well as the noisy datapoints.\n",
    "#### Reason 1: The outer points are the most crucial in the training dataset. In the case when the training dataponts are too many to include all, we should first find these edge points and make sure they are included in the training data!\n",
    "#### Reason 2: Finding and excluding the noisy datapoints should result in a cleaner training process with a better end model!"
   ]
  },
  {
   "cell_type": "code",
   "execution_count": 2,
   "metadata": {},
   "outputs": [],
   "source": [
    "from sklearn.cluster import DBSCAN\n",
    "import pandas as pd\n",
    "import numpy as np\n",
    "from sklearn.model_selection import KFold\n",
    "import matplotlib.pyplot as plt\n",
    "import matplotlib.font_manager\n",
    "from sklearn import svm\n",
    "import datetime\n",
    "from sklearn.metrics import confusion_matrix, accuracy_score, f1_score, precision_score, recall_score"
   ]
  },
  {
   "cell_type": "markdown",
   "metadata": {},
   "source": [
    "## Load dataset"
   ]
  },
  {
   "cell_type": "code",
   "execution_count": 5,
   "metadata": {},
   "outputs": [],
   "source": [
    "def load_data(path, max_rows = 300000):\n",
    "    \"\"\"\n",
    "    Load the training data\n",
    "    \n",
    "    Arguments:  rows -> Maximum number of rows to load from the dataset.\n",
    "    \n",
    "    Return:     * Pandas dataframe, duplicates removed and reshuffled along the vertical axis. \n",
    "\n",
    "    \"\"\"\n",
    "    df = pd.read_csv(path, header=None, sep=',')\n",
    "    df.columns = ['B1', 'C1', 'A2', 'B2', 'C2', 'ma_B1', 'ma_C1', 'ma_A2', 'ma_B2', 'ma_C2', 'labels_y']\n",
    "    df = df.drop_duplicates()\n",
    "    df = df.sample(frac = 1)\n",
    "    df = df.reset_index(drop=True)\n",
    "    labels_y = df['labels_y']\n",
    "    df = df.drop(columns=['labels_y'])\n",
    "#     df = df.drop(columns=[ 'A2', 'B2', 'C2', 'ma_B1', 'ma_C1', 'ma_A2', 'ma_B2', 'ma_C2','labels_y']) # delete this line\n",
    "\n",
    "    return df[:max_rows], labels_y[:max_rows]"
   ]
  },
  {
   "cell_type": "code",
   "execution_count": 7,
   "metadata": {},
   "outputs": [],
   "source": [
    "# file_path  = r'G:\\DATAcomplete3.TXT'\n",
    "file_path  = r'..\\..\\DATA\\newerrrr_DATA\\DELETE_THIS\\my_training_set.txt'\n",
    "train_data, labels_y = load_data(file_path, max_rows = 3000000)\n",
    "\n",
    "X = np.r_[train_data]\n",
    "# labels_y = np.r_[labels_y].reshape((-1,1))\n",
    "\n",
    "# labels_y.shape"
   ]
  },
  {
   "cell_type": "markdown",
   "metadata": {},
   "source": [
    "## Initial plot"
   ]
  },
  {
   "cell_type": "code",
   "execution_count": 45,
   "metadata": {
    "scrolled": false
   },
   "outputs": [
    {
     "data": {
      "image/png": "[encoded data removed]",
      "text/plain": [
       "<Figure size 720x720 with 1 Axes>"
      ]
     },
     "metadata": {
      "needs_background": "light"
     },
     "output_type": "display_data"
    }
   ],
   "source": [
    "plt.figure(figsize=(10,10))\n",
    "\n",
    "column1 = 0\n",
    "column2 = 1\n",
    "\n",
    "data = plt.scatter(X[:, column1], X[:, column2], c='green', s=25, edgecolors='green')\n",
    "# HT = plt.scatter(X_outliers[:, column1], X_outliers[:, column2], c='red', s=1, edgecolors='red')\n",
    "\n",
    "plt.axis('tight')\n",
    "plt.xlim((0, 60))\n",
    "plt.ylim((0, 60))\n",
    "\n",
    "plt.legend([data], [\"Unique raw datapoints\"], loc=\"upper left\",\n",
    "           prop=matplotlib.font_manager.FontProperties(size=15))\n",
    "\n",
    "# plt.xlabel(\n",
    "#     \"Errors train: %d/%d ; \"\n",
    "#     \"Errors novel regular: %d/%d ; \"\n",
    "#     \"Errors novel abnormal: %d/%d\"\n",
    "#     % (n_error_train, n_train_rows ,n_error_test, n_test_rows, n_error_outliers, n_outliers_rows))\n",
    "plt.xlabel(\"CHIP {}\".format(column1), fontsize='xx-large', fontstyle='oblique', fontweight='bold')\n",
    "plt.ylabel(\"CHIP {}\".format(column2), fontsize='xx-large', fontstyle='oblique', fontweight='bold')\n",
    "\n",
    "plt.show()"
   ]
  },
  {
   "cell_type": "markdown",
   "metadata": {},
   "source": [
    "## Find pseude edge points"
   ]
  },
  {
   "cell_type": "code",
   "execution_count": 7,
   "metadata": {},
   "outputs": [],
   "source": [
    "def find_edge_points(dataframe):\n",
    "    X = dataframe\n",
    "    clustering = DBSCAN(eps=5, min_samples=60).fit(X)\n",
    "    labels = clustering.labels_                         # cluster group of every point\n",
    "    core_ind = clustering.core_sample_indices_          # indices of core points\n",
    "    arr1 = np.arange(len(X))                            # indices of all points\n",
    "    arr2 = labels!= -1                                  # indices of core and edge points\n",
    "    arr3 = np.setdiff1d(arr1,core_ind)                  # indices of edge and noise points\n",
    "    \n",
    "    # Edge indices\n",
    "    edge_ind = [idx for idx in arr3 if clustering.labels_[idx]!= -1] # edge_ind = [idx for idx in arr3 if arr2[idx]==True]\n",
    "\n",
    "    # Noise indices\n",
    "    noise_ind = [idx for idx in arr3 if clustering.labels_[idx] == -1]\n",
    "    \n",
    "    edge_ind = np.array(edge_ind).reshape((-1,1))\n",
    "    noise_ind = np.array(noise_ind).reshape((-1,1))\n",
    "    \n",
    "    return edge_ind, noise_ind\n",
    "\n"
   ]
  },
  {
   "cell_type": "code",
   "execution_count": 8,
   "metadata": {},
   "outputs": [
    {
     "name": "stdout",
     "output_type": "stream",
     "text": [
      "0 200000 (6696, 1) (6696, 1)\n",
      "200000 400000 (13391, 1) (6695, 1)\n",
      "400000 600000 (20089, 1) (6698, 1)\n",
      "600000 800000 (26772, 1) (6683, 1)\n",
      "800000 1000000 (33502, 1) (6730, 1)\n",
      "1000000 1200000 (40299, 1) (6797, 1)\n",
      "1200000 1400000 (47074, 1) (6775, 1)\n",
      "1400000 1600000 (53734, 1) (6660, 1)\n",
      "1600000 1800000 (60430, 1) (6696, 1)\n",
      "1800000 2000000 (67205, 1) (6775, 1)\n",
      "2000000 2200000 (73978, 1) (6773, 1)\n",
      "2200000 2400000 (80808, 1) (6830, 1)\n",
      "2400000 2600000 (87561, 1) (6753, 1)\n",
      "2600000 2800000 (94297, 1) (6736, 1)\n",
      "2800000 3000000 (101022, 1) (6725, 1)\n",
      "Done!\n"
     ]
    }
   ],
   "source": [
    "# pseudo_edges = []\n",
    "# pseudo_noises = []\n",
    "# window =200000\n",
    "# for i in range(0, 15):\n",
    "#     dataset = X[i*window:(i+1)*window]\n",
    "#     edge_ind, noise_ind = find_edge_points(dataset)\n",
    "#     edge_ind = edge_ind + i\n",
    "#     noise_ind = noise_ind + i\n",
    "    \n",
    "#     pseudo_edges = np.append(pseudo_edges, edge_ind).reshape((-1,1))\n",
    "#     pseudo_noises = np.append(pseudo_noises, noise_ind).reshape((-1,1))\n",
    "#     print(i*window, \" : \", (i+1)*window, \" - edges\", pseudo_edges.shape , edge_ind.shape,\" - noises\", pseudo_noises.shape , noise_ind.shape)\n",
    "    \n",
    "# print(\"Done!\")"
   ]
  },
  {
   "cell_type": "code",
   "execution_count": 24,
   "metadata": {},
   "outputs": [],
   "source": [
    "# X = np.r_[train_data]\n",
    "# np.savetxt('..\\\\..\\\\DATA\\\\newerrrr_DATA\\\\DELETE_THIS\\\\pseudo_edges.txt', X[pseudo_edges.astype(int).reshape((-1))],fmt='%7.2f', delimiter=',')\n",
    "# np.savetxt('..\\\\..\\\\DATA\\\\newerrrr_DATA\\\\DELETE_THIS\\\\pseudo_noises.txt', X[pseudo_noises.astype(int).reshape((-1))], fmt='%7.2f', delimiter=',')"
   ]
  },
  {
   "cell_type": "markdown",
   "metadata": {},
   "source": [
    "### Upload pseudo edge and pseudo noise points. Combine into one dataset for further actions."
   ]
  },
  {
   "cell_type": "code",
   "execution_count": 48,
   "metadata": {},
   "outputs": [
    {
     "data": {
      "text/html": [
       "<div>\n",
       "<style scoped>\n",
       "    .dataframe tbody tr th:only-of-type {\n",
       "        vertical-align: middle;\n",
       "    }\n",
       "\n",
       "    .dataframe tbody tr th {\n",
       "        vertical-align: top;\n",
       "    }\n",
       "\n",
       "    .dataframe thead th {\n",
       "        text-align: right;\n",
       "    }\n",
       "</style>\n",
       "<table border=\"1\" class=\"dataframe\">\n",
       "  <thead>\n",
       "    <tr style=\"text-align: right;\">\n",
       "      <th></th>\n",
       "      <th>B1</th>\n",
       "      <th>C1</th>\n",
       "      <th>A2</th>\n",
       "      <th>B2</th>\n",
       "      <th>C2</th>\n",
       "      <th>ma_B1</th>\n",
       "      <th>ma_C1</th>\n",
       "      <th>ma_A2</th>\n",
       "      <th>ma_B2</th>\n",
       "      <th>ma_C2</th>\n",
       "    </tr>\n",
       "  </thead>\n",
       "  <tbody>\n",
       "    <tr>\n",
       "      <th>0</th>\n",
       "      <td>48.0</td>\n",
       "      <td>36.0</td>\n",
       "      <td>259.0</td>\n",
       "      <td>41.0</td>\n",
       "      <td>41.0</td>\n",
       "      <td>46.2</td>\n",
       "      <td>36.8</td>\n",
       "      <td>262.6</td>\n",
       "      <td>39.6</td>\n",
       "      <td>39.6</td>\n",
       "    </tr>\n",
       "    <tr>\n",
       "      <th>1</th>\n",
       "      <td>44.0</td>\n",
       "      <td>10.0</td>\n",
       "      <td>259.0</td>\n",
       "      <td>31.0</td>\n",
       "      <td>26.0</td>\n",
       "      <td>46.0</td>\n",
       "      <td>9.2</td>\n",
       "      <td>261.6</td>\n",
       "      <td>30.2</td>\n",
       "      <td>28.0</td>\n",
       "    </tr>\n",
       "    <tr>\n",
       "      <th>2</th>\n",
       "      <td>13.0</td>\n",
       "      <td>34.0</td>\n",
       "      <td>261.0</td>\n",
       "      <td>39.0</td>\n",
       "      <td>44.0</td>\n",
       "      <td>11.8</td>\n",
       "      <td>37.2</td>\n",
       "      <td>262.4</td>\n",
       "      <td>40.2</td>\n",
       "      <td>42.8</td>\n",
       "    </tr>\n",
       "    <tr>\n",
       "      <th>3</th>\n",
       "      <td>41.0</td>\n",
       "      <td>36.0</td>\n",
       "      <td>257.0</td>\n",
       "      <td>44.0</td>\n",
       "      <td>43.0</td>\n",
       "      <td>44.0</td>\n",
       "      <td>36.6</td>\n",
       "      <td>260.6</td>\n",
       "      <td>37.6</td>\n",
       "      <td>37.0</td>\n",
       "    </tr>\n",
       "    <tr>\n",
       "      <th>4</th>\n",
       "      <td>13.0</td>\n",
       "      <td>41.0</td>\n",
       "      <td>265.0</td>\n",
       "      <td>41.0</td>\n",
       "      <td>41.0</td>\n",
       "      <td>11.0</td>\n",
       "      <td>43.4</td>\n",
       "      <td>263.4</td>\n",
       "      <td>39.8</td>\n",
       "      <td>40.4</td>\n",
       "    </tr>\n",
       "    <tr>\n",
       "      <th>...</th>\n",
       "      <td>...</td>\n",
       "      <td>...</td>\n",
       "      <td>...</td>\n",
       "      <td>...</td>\n",
       "      <td>...</td>\n",
       "      <td>...</td>\n",
       "      <td>...</td>\n",
       "      <td>...</td>\n",
       "      <td>...</td>\n",
       "      <td>...</td>\n",
       "    </tr>\n",
       "    <tr>\n",
       "      <th>101017</th>\n",
       "      <td>44.0</td>\n",
       "      <td>8.0</td>\n",
       "      <td>265.0</td>\n",
       "      <td>8.0</td>\n",
       "      <td>7.0</td>\n",
       "      <td>46.0</td>\n",
       "      <td>9.8</td>\n",
       "      <td>264.4</td>\n",
       "      <td>8.6</td>\n",
       "      <td>7.4</td>\n",
       "    </tr>\n",
       "    <tr>\n",
       "      <th>101018</th>\n",
       "      <td>39.0</td>\n",
       "      <td>38.0</td>\n",
       "      <td>264.0</td>\n",
       "      <td>29.0</td>\n",
       "      <td>39.0</td>\n",
       "      <td>42.6</td>\n",
       "      <td>36.0</td>\n",
       "      <td>263.8</td>\n",
       "      <td>34.2</td>\n",
       "      <td>40.2</td>\n",
       "    </tr>\n",
       "    <tr>\n",
       "      <th>101019</th>\n",
       "      <td>48.0</td>\n",
       "      <td>38.0</td>\n",
       "      <td>259.0</td>\n",
       "      <td>8.0</td>\n",
       "      <td>10.0</td>\n",
       "      <td>44.4</td>\n",
       "      <td>37.6</td>\n",
       "      <td>262.4</td>\n",
       "      <td>9.2</td>\n",
       "      <td>9.0</td>\n",
       "    </tr>\n",
       "    <tr>\n",
       "      <th>101020</th>\n",
       "      <td>11.0</td>\n",
       "      <td>8.0</td>\n",
       "      <td>264.0</td>\n",
       "      <td>43.0</td>\n",
       "      <td>43.0</td>\n",
       "      <td>11.6</td>\n",
       "      <td>8.4</td>\n",
       "      <td>263.0</td>\n",
       "      <td>36.2</td>\n",
       "      <td>36.4</td>\n",
       "    </tr>\n",
       "    <tr>\n",
       "      <th>101021</th>\n",
       "      <td>11.0</td>\n",
       "      <td>36.0</td>\n",
       "      <td>262.0</td>\n",
       "      <td>41.0</td>\n",
       "      <td>39.0</td>\n",
       "      <td>11.0</td>\n",
       "      <td>38.0</td>\n",
       "      <td>263.4</td>\n",
       "      <td>36.6</td>\n",
       "      <td>32.8</td>\n",
       "    </tr>\n",
       "  </tbody>\n",
       "</table>\n",
       "<p>101022 rows × 10 columns</p>\n",
       "</div>"
      ],
      "text/plain": [
       "          B1    C1     A2    B2    C2  ma_B1  ma_C1  ma_A2  ma_B2  ma_C2\n",
       "0       48.0  36.0  259.0  41.0  41.0   46.2   36.8  262.6   39.6   39.6\n",
       "1       44.0  10.0  259.0  31.0  26.0   46.0    9.2  261.6   30.2   28.0\n",
       "2       13.0  34.0  261.0  39.0  44.0   11.8   37.2  262.4   40.2   42.8\n",
       "3       41.0  36.0  257.0  44.0  43.0   44.0   36.6  260.6   37.6   37.0\n",
       "4       13.0  41.0  265.0  41.0  41.0   11.0   43.4  263.4   39.8   40.4\n",
       "...      ...   ...    ...   ...   ...    ...    ...    ...    ...    ...\n",
       "101017  44.0   8.0  265.0   8.0   7.0   46.0    9.8  264.4    8.6    7.4\n",
       "101018  39.0  38.0  264.0  29.0  39.0   42.6   36.0  263.8   34.2   40.2\n",
       "101019  48.0  38.0  259.0   8.0  10.0   44.4   37.6  262.4    9.2    9.0\n",
       "101020  11.0   8.0  264.0  43.0  43.0   11.6    8.4  263.0   36.2   36.4\n",
       "101021  11.0  36.0  262.0  41.0  39.0   11.0   38.0  263.4   36.6   32.8\n",
       "\n",
       "[101022 rows x 10 columns]"
      ]
     },
     "execution_count": 48,
     "metadata": {},
     "output_type": "execute_result"
    }
   ],
   "source": [
    "X_pseudo_edge = pd.read_csv('..\\\\..\\\\DATA\\\\newerrrr_DATA\\\\DELETE_THIS\\\\pseudo_edges.txt', header=None, sep=',')\n",
    "X_pseudo_edge.columns = ['B1', 'C1', 'A2', 'B2', 'C2', 'ma_B1', 'ma_C1', 'ma_A2', 'ma_B2', 'ma_C2']\n",
    "X_pseudo_edge"
   ]
  },
  {
   "cell_type": "code",
   "execution_count": 49,
   "metadata": {
    "scrolled": false
   },
   "outputs": [
    {
     "data": {
      "text/html": [
       "<div>\n",
       "<style scoped>\n",
       "    .dataframe tbody tr th:only-of-type {\n",
       "        vertical-align: middle;\n",
       "    }\n",
       "\n",
       "    .dataframe tbody tr th {\n",
       "        vertical-align: top;\n",
       "    }\n",
       "\n",
       "    .dataframe thead th {\n",
       "        text-align: right;\n",
       "    }\n",
       "</style>\n",
       "<table border=\"1\" class=\"dataframe\">\n",
       "  <thead>\n",
       "    <tr style=\"text-align: right;\">\n",
       "      <th></th>\n",
       "      <th>B1</th>\n",
       "      <th>C1</th>\n",
       "      <th>A2</th>\n",
       "      <th>B2</th>\n",
       "      <th>C2</th>\n",
       "      <th>ma_B1</th>\n",
       "      <th>ma_C1</th>\n",
       "      <th>ma_A2</th>\n",
       "      <th>ma_B2</th>\n",
       "      <th>ma_C2</th>\n",
       "    </tr>\n",
       "  </thead>\n",
       "  <tbody>\n",
       "    <tr>\n",
       "      <th>0</th>\n",
       "      <td>11.0</td>\n",
       "      <td>10.0</td>\n",
       "      <td>264.0</td>\n",
       "      <td>41.0</td>\n",
       "      <td>41.0</td>\n",
       "      <td>10.8</td>\n",
       "      <td>9.6</td>\n",
       "      <td>265.0</td>\n",
       "      <td>35.6</td>\n",
       "      <td>25.6</td>\n",
       "    </tr>\n",
       "    <tr>\n",
       "      <th>1</th>\n",
       "      <td>11.0</td>\n",
       "      <td>36.0</td>\n",
       "      <td>264.0</td>\n",
       "      <td>10.0</td>\n",
       "      <td>7.0</td>\n",
       "      <td>18.2</td>\n",
       "      <td>37.0</td>\n",
       "      <td>265.0</td>\n",
       "      <td>8.0</td>\n",
       "      <td>8.8</td>\n",
       "    </tr>\n",
       "    <tr>\n",
       "      <th>2</th>\n",
       "      <td>13.0</td>\n",
       "      <td>11.0</td>\n",
       "      <td>264.0</td>\n",
       "      <td>8.0</td>\n",
       "      <td>10.0</td>\n",
       "      <td>11.8</td>\n",
       "      <td>9.6</td>\n",
       "      <td>265.0</td>\n",
       "      <td>8.4</td>\n",
       "      <td>19.0</td>\n",
       "    </tr>\n",
       "    <tr>\n",
       "      <th>3</th>\n",
       "      <td>13.0</td>\n",
       "      <td>41.0</td>\n",
       "      <td>262.0</td>\n",
       "      <td>31.0</td>\n",
       "      <td>29.0</td>\n",
       "      <td>30.4</td>\n",
       "      <td>37.8</td>\n",
       "      <td>262.0</td>\n",
       "      <td>34.4</td>\n",
       "      <td>34.4</td>\n",
       "    </tr>\n",
       "    <tr>\n",
       "      <th>4</th>\n",
       "      <td>46.0</td>\n",
       "      <td>10.0</td>\n",
       "      <td>261.0</td>\n",
       "      <td>38.0</td>\n",
       "      <td>15.0</td>\n",
       "      <td>45.2</td>\n",
       "      <td>8.8</td>\n",
       "      <td>263.8</td>\n",
       "      <td>37.2</td>\n",
       "      <td>9.4</td>\n",
       "    </tr>\n",
       "    <tr>\n",
       "      <th>...</th>\n",
       "      <td>...</td>\n",
       "      <td>...</td>\n",
       "      <td>...</td>\n",
       "      <td>...</td>\n",
       "      <td>...</td>\n",
       "      <td>...</td>\n",
       "      <td>...</td>\n",
       "      <td>...</td>\n",
       "      <td>...</td>\n",
       "      <td>...</td>\n",
       "    </tr>\n",
       "    <tr>\n",
       "      <th>11150</th>\n",
       "      <td>44.0</td>\n",
       "      <td>38.0</td>\n",
       "      <td>265.0</td>\n",
       "      <td>29.0</td>\n",
       "      <td>8.0</td>\n",
       "      <td>44.2</td>\n",
       "      <td>37.0</td>\n",
       "      <td>263.6</td>\n",
       "      <td>34.2</td>\n",
       "      <td>8.6</td>\n",
       "    </tr>\n",
       "    <tr>\n",
       "      <th>11151</th>\n",
       "      <td>48.0</td>\n",
       "      <td>10.0</td>\n",
       "      <td>261.0</td>\n",
       "      <td>39.0</td>\n",
       "      <td>46.0</td>\n",
       "      <td>44.8</td>\n",
       "      <td>9.6</td>\n",
       "      <td>262.6</td>\n",
       "      <td>36.6</td>\n",
       "      <td>39.0</td>\n",
       "    </tr>\n",
       "    <tr>\n",
       "      <th>11152</th>\n",
       "      <td>44.0</td>\n",
       "      <td>8.0</td>\n",
       "      <td>265.0</td>\n",
       "      <td>31.0</td>\n",
       "      <td>39.0</td>\n",
       "      <td>43.4</td>\n",
       "      <td>9.2</td>\n",
       "      <td>262.8</td>\n",
       "      <td>35.8</td>\n",
       "      <td>36.8</td>\n",
       "    </tr>\n",
       "    <tr>\n",
       "      <th>11153</th>\n",
       "      <td>10.0</td>\n",
       "      <td>8.0</td>\n",
       "      <td>262.0</td>\n",
       "      <td>8.0</td>\n",
       "      <td>7.0</td>\n",
       "      <td>11.6</td>\n",
       "      <td>9.2</td>\n",
       "      <td>263.6</td>\n",
       "      <td>8.0</td>\n",
       "      <td>8.0</td>\n",
       "    </tr>\n",
       "    <tr>\n",
       "      <th>11154</th>\n",
       "      <td>8.0</td>\n",
       "      <td>10.0</td>\n",
       "      <td>261.0</td>\n",
       "      <td>10.0</td>\n",
       "      <td>28.0</td>\n",
       "      <td>10.4</td>\n",
       "      <td>9.2</td>\n",
       "      <td>263.8</td>\n",
       "      <td>9.0</td>\n",
       "      <td>34.4</td>\n",
       "    </tr>\n",
       "  </tbody>\n",
       "</table>\n",
       "<p>11155 rows × 10 columns</p>\n",
       "</div>"
      ],
      "text/plain": [
       "         B1    C1     A2    B2    C2  ma_B1  ma_C1  ma_A2  ma_B2  ma_C2\n",
       "0      11.0  10.0  264.0  41.0  41.0   10.8    9.6  265.0   35.6   25.6\n",
       "1      11.0  36.0  264.0  10.0   7.0   18.2   37.0  265.0    8.0    8.8\n",
       "2      13.0  11.0  264.0   8.0  10.0   11.8    9.6  265.0    8.4   19.0\n",
       "3      13.0  41.0  262.0  31.0  29.0   30.4   37.8  262.0   34.4   34.4\n",
       "4      46.0  10.0  261.0  38.0  15.0   45.2    8.8  263.8   37.2    9.4\n",
       "...     ...   ...    ...   ...   ...    ...    ...    ...    ...    ...\n",
       "11150  44.0  38.0  265.0  29.0   8.0   44.2   37.0  263.6   34.2    8.6\n",
       "11151  48.0  10.0  261.0  39.0  46.0   44.8    9.6  262.6   36.6   39.0\n",
       "11152  44.0   8.0  265.0  31.0  39.0   43.4    9.2  262.8   35.8   36.8\n",
       "11153  10.0   8.0  262.0   8.0   7.0   11.6    9.2  263.6    8.0    8.0\n",
       "11154   8.0  10.0  261.0  10.0  28.0   10.4    9.2  263.8    9.0   34.4\n",
       "\n",
       "[11155 rows x 10 columns]"
      ]
     },
     "execution_count": 49,
     "metadata": {},
     "output_type": "execute_result"
    }
   ],
   "source": [
    "X_pseudo_noise = pd.read_csv('..\\\\..\\\\DATA\\\\newerrrr_DATA\\\\DELETE_THIS\\\\pseudo_noises.txt', header=None, sep=',')\n",
    "X_pseudo_noise.columns = ['B1', 'C1', 'A2', 'B2', 'C2', 'ma_B1', 'ma_C1', 'ma_A2', 'ma_B2', 'ma_C2']\n",
    "X_pseudo_noise"
   ]
  },
  {
   "cell_type": "code",
   "execution_count": 50,
   "metadata": {
    "scrolled": true
   },
   "outputs": [
    {
     "name": "stdout",
     "output_type": "stream",
     "text": [
      "(362177, 10)\n",
      "(329925, 10)\n"
     ]
    }
   ],
   "source": [
    "X_edge_noise_core_combined = pd.concat([X_pseudo_edge, X_pseudo_noise, train_data[:250000]], axis=0)\n",
    "print(X_edge_noise_core_combined.shape)\n",
    "X_edge_noise_core_combined = X_edge_noise_core_combined.drop_duplicates()\n",
    "print(X_edge_noise_core_combined.shape)"
   ]
  },
  {
   "cell_type": "markdown",
   "metadata": {},
   "source": [
    "## Filter out true edge points from pseudo edge points"
   ]
  },
  {
   "cell_type": "code",
   "execution_count": 51,
   "metadata": {
    "scrolled": true
   },
   "outputs": [],
   "source": [
    "clustering = DBSCAN(eps=5, min_samples=60).fit(X_edge_noise_core_combined)"
   ]
  },
  {
   "cell_type": "code",
   "execution_count": 52,
   "metadata": {},
   "outputs": [
    {
     "data": {
      "text/plain": [
       "DBSCAN(eps=5, min_samples=60)"
      ]
     },
     "execution_count": 52,
     "metadata": {},
     "output_type": "execute_result"
    }
   ],
   "source": [
    "clustering"
   ]
  },
  {
   "cell_type": "code",
   "execution_count": 53,
   "metadata": {
    "scrolled": true
   },
   "outputs": [
    {
     "data": {
      "text/plain": [
       "array([-1,  0,  1,  2,  3,  4,  5,  6,  7,  8,  9, 10, 11, 12, 13, 14, 15],\n",
       "      dtype=int64)"
      ]
     },
     "execution_count": 53,
     "metadata": {},
     "output_type": "execute_result"
    }
   ],
   "source": [
    "labels = clustering.labels_\n",
    "\n",
    "np.unique(labels)"
   ]
  },
  {
   "cell_type": "code",
   "execution_count": 54,
   "metadata": {},
   "outputs": [],
   "source": [
    "# Indices of core samples.\n",
    "core_ind = clustering.core_sample_indices_"
   ]
  },
  {
   "cell_type": "code",
   "execution_count": 75,
   "metadata": {},
   "outputs": [],
   "source": [
    "# Copy of each core sample found by training.\n",
    "core_datapoints = clustering.components_"
   ]
  },
  {
   "cell_type": "code",
   "execution_count": 56,
   "metadata": {
    "scrolled": true
   },
   "outputs": [
    {
     "data": {
      "text/plain": [
       "(321269, 10)"
      ]
     },
     "execution_count": 56,
     "metadata": {},
     "output_type": "execute_result"
    }
   ],
   "source": [
    "X_edge_noise_core_combined = np.r_[X_edge_noise_core_combined]\n",
    "X_edge_noise_core_combined[core_ind].shape"
   ]
  },
  {
   "cell_type": "code",
   "execution_count": 57,
   "metadata": {},
   "outputs": [
    {
     "data": {
      "text/plain": [
       "329925"
      ]
     },
     "execution_count": 57,
     "metadata": {},
     "output_type": "execute_result"
    }
   ],
   "source": [
    "# All indices\n",
    "arr1 = np.arange(len(X_edge_noise_core_combined))\n",
    "len(arr1)"
   ]
  },
  {
   "cell_type": "code",
   "execution_count": 58,
   "metadata": {},
   "outputs": [],
   "source": [
    "# Core and edge points | True/False array\n",
    "arr2 = labels!= -1"
   ]
  },
  {
   "cell_type": "code",
   "execution_count": 59,
   "metadata": {},
   "outputs": [
    {
     "data": {
      "text/plain": [
       "8656"
      ]
     },
     "execution_count": 59,
     "metadata": {},
     "output_type": "execute_result"
    }
   ],
   "source": [
    "# Edge and Noise indices\n",
    "arr3 = np.setdiff1d(arr1,core_ind)\n",
    "len(arr3)"
   ]
  },
  {
   "cell_type": "code",
   "execution_count": 60,
   "metadata": {},
   "outputs": [
    {
     "name": "stdout",
     "output_type": "stream",
     "text": [
      "7442\n",
      "1214\n"
     ]
    }
   ],
   "source": [
    "# True edge indices\n",
    "edge_ind = [idx for idx in arr3 if clustering.labels_[idx]!= -1] # edge_ind = [idx for idx in arr3 if arr2[idx]==True]\n",
    "print(len(edge_ind))\n",
    "\n",
    "# True noise indices\n",
    "noise_ind = [idx for idx in arr3 if clustering.labels_[idx] == -1]\n",
    "\n",
    "print(len(noise_ind))"
   ]
  },
  {
   "cell_type": "code",
   "execution_count": 91,
   "metadata": {},
   "outputs": [],
   "source": [
    "# True edge datapoints\n",
    "X_edge = X_edge_noise_core_combined[edge_ind]\n",
    "\n",
    "# True noise datapoints\n",
    "X_noise = X_edge_noise_core_combined[noise_ind]"
   ]
  },
  {
   "cell_type": "code",
   "execution_count": 64,
   "metadata": {},
   "outputs": [
    {
     "name": "stderr",
     "output_type": "stream",
     "text": [
      "C:\\Users\\Gor\\AppData\\Local\\Continuum\\anaconda3\\lib\\site-packages\\ipykernel_launcher.py:8: UserWarning: You passed a edgecolor/edgecolors ('red') for an unfilled marker ('x').  Matplotlib is ignoring the edgecolor in favor of the facecolor.  This behavior may change in the future.\n",
      "  \n"
     ]
    },
    {
     "data": {
      "image/png": "[encoded data removed]",
      "text/plain": [
       "<Figure size 720x720 with 1 Axes>"
      ]
     },
     "metadata": {
      "needs_background": "light"
     },
     "output_type": "display_data"
    }
   ],
   "source": [
    "plt.figure(figsize=(10,10))\n",
    "\n",
    "column1 = 0\n",
    "column2 = 1\n",
    "\n",
    "data = plt.scatter(X_edge_noise_core_combined[:, column1], X_edge_noise_core_combined[:, column2], c='green', s=55, edgecolors='green')\n",
    "edge_data = plt.scatter(X_edge[:, column1], X_edge[:, column2], c='orange', s=35, edgecolors='orange')\n",
    "noise_data = plt.scatter(X_noise[:, column1], X_noise[:, column2], c='red', s=35, edgecolors='red', marker='x')\n",
    "# HT = plt.scatter(X_outliers[:, column1], X_outliers[:, column2], c='red', s=1, edgecolors='red')\n",
    "\n",
    "plt.axis('tight')\n",
    "plt.xlim((0, 60))\n",
    "plt.ylim((0, 70))\n",
    "\n",
    "plt.legend([data, edge_data, noise_data], [\"All data\", \"True edge data\", \"True noise data\"], loc=\"upper left\",\n",
    "           prop=matplotlib.font_manager.FontProperties(size=20))\n",
    "\n",
    "plt.xlabel(\"CHIP {}\\n all data:  {},  edge points:  {},  noise points:  {}\".format(column1, len(X_edge_noise_core_combined), len(edge_ind), len(noise_ind)), fontsize='xx-large', fontstyle='oblique', fontweight='bold')\n",
    "plt.ylabel(\"CHIP {}\".format(column2), fontsize='xx-large', fontstyle='oblique', fontweight='bold')\n",
    "\n",
    "plt.show()"
   ]
  },
  {
   "cell_type": "code",
   "execution_count": 77,
   "metadata": {
    "scrolled": true
   },
   "outputs": [
    {
     "name": "stdout",
     "output_type": "stream",
     "text": [
      "(321269, 11)\n"
     ]
    },
    {
     "data": {
      "text/plain": [
       "array([[ 48. ,  36. , 259. , ...,  39.6,  39.6,   1. ],\n",
       "       [ 44. ,  10. , 259. , ...,  30.2,  28. ,   1. ],\n",
       "       [ 13. ,  34. , 261. , ...,  40.2,  42.8,   1. ],\n",
       "       ...,\n",
       "       [ 46. ,  10. , 259. , ...,   8.6,   8.4,   1. ],\n",
       "       [ 44. ,  33. , 261. , ...,   8.8,  37.8,   1. ],\n",
       "       [ 10. ,  34. , 264. , ...,  39.2,   8.2,   1. ]])"
      ]
     },
     "execution_count": 77,
     "metadata": {},
     "output_type": "execute_result"
    }
   ],
   "source": [
    "labels_y_core = np.ones((core_datapoints.shape[0],1))\n",
    "core_datapoints_labeled = np.append(core_datapoints,labels_y_core, axis=1)\n",
    "print(core_datapoints_labeled.shape)\n",
    "core_datapoints_labeled"
   ]
  },
  {
   "cell_type": "code",
   "execution_count": 78,
   "metadata": {
    "scrolled": true
   },
   "outputs": [
    {
     "name": "stdout",
     "output_type": "stream",
     "text": [
      "(7442, 11)\n"
     ]
    },
    {
     "data": {
      "text/plain": [
       "array([[ 41. ,  36. , 257. , ...,  37.6,  37. ,   1. ],\n",
       "       [ 13. ,  41. , 265. , ...,  39.8,  40.4,   1. ],\n",
       "       [ 41. ,   7. , 265. , ...,  30.6,  30. ,   1. ],\n",
       "       ...,\n",
       "       [ 39. ,  38. , 264. , ...,  29.2,  29.8,   1. ],\n",
       "       [  8. ,  39. , 259. , ...,  33.6,  36.4,   1. ],\n",
       "       [ 13. ,  34. , 257. , ...,  32.8,   9. ,   1. ]])"
      ]
     },
     "execution_count": 78,
     "metadata": {},
     "output_type": "execute_result"
    }
   ],
   "source": [
    "labels_y_edge = np.ones((X_edge.shape[0],1))\n",
    "X_edge_labeled = np.append(X_edge,labels_y_edge, axis=1)\n",
    "print(X_edge_labeled.shape)\n",
    "X_edge_labeled"
   ]
  },
  {
   "cell_type": "code",
   "execution_count": 79,
   "metadata": {},
   "outputs": [
    {
     "name": "stdout",
     "output_type": "stream",
     "text": [
      "(328711, 11)\n"
     ]
    },
    {
     "data": {
      "text/plain": [
       "array([[ 48. ,  36. , 259. , ...,  39.6,  39.6,   1. ],\n",
       "       [ 44. ,  10. , 259. , ...,  30.2,  28. ,   1. ],\n",
       "       [ 13. ,  34. , 261. , ...,  40.2,  42.8,   1. ],\n",
       "       ...,\n",
       "       [ 39. ,  38. , 264. , ...,  29.2,  29.8,   1. ],\n",
       "       [  8. ,  39. , 259. , ...,  33.6,  36.4,   1. ],\n",
       "       [ 13. ,  34. , 257. , ...,  32.8,   9. ,   1. ]])"
      ]
     },
     "execution_count": 79,
     "metadata": {},
     "output_type": "execute_result"
    }
   ],
   "source": [
    "# Core_edge_dataset = np.vstack((core_datapoints_labeled, X_edge_labeled))\n",
    "# print(Core_edge_dataset.shape)\n",
    "# Core_edge_dataset"
   ]
  },
  {
   "cell_type": "code",
   "execution_count": 92,
   "metadata": {},
   "outputs": [],
   "source": [
    "# Get raw data, remove noise data, remove edge data, save what remains for further actions.\n",
    "train_data.drop_duplicates(inplace=True)\n",
    "\n",
    "df1 = pd.DataFrame(X_noise, columns = ['B1', 'C1', 'A2', 'B2', 'C2', 'ma_B1', 'ma_C1', 'ma_A2', 'ma_B2', 'ma_C2'])\n",
    "df2 = pd.DataFrame(X_edge , columns = ['B1', 'C1', 'A2', 'B2', 'C2', 'ma_B1', 'ma_C1', 'ma_A2', 'ma_B2', 'ma_C2'])\n",
    "X_core = pd.concat([train_data, df1, df1, df2, df2]).drop_duplicates(keep=False).reset_index(drop=True)\n",
    "\n",
    "X_core = np.r_[X_core].astype(int)"
   ]
  },
  {
   "cell_type": "code",
   "execution_count": 93,
   "metadata": {
    "scrolled": true
   },
   "outputs": [
    {
     "data": {
      "text/plain": [
       "array([[ 43.,  33., 265., ...,   7.,  35.,   1.],\n",
       "       [ 43.,  10., 262., ...,   8.,  35.,   1.],\n",
       "       [ 10.,  10., 264., ...,   8.,   9.,   1.],\n",
       "       ...,\n",
       "       [ 43.,  10., 262., ...,  40.,   9.,   1.],\n",
       "       [ 11.,  10., 264., ...,  34.,  36.,   1.],\n",
       "       [ 10.,  38., 264., ...,  37.,  32.,   1.]])"
      ]
     },
     "execution_count": 93,
     "metadata": {},
     "output_type": "execute_result"
    }
   ],
   "source": [
    "labels_y_all = np.ones((X_core.shape[0],1))\n",
    "X_core = np.append(X_core,labels_y_all, axis=1)\n",
    "X_core"
   ]
  },
  {
   "cell_type": "code",
   "execution_count": 94,
   "metadata": {},
   "outputs": [
    {
     "data": {
      "text/plain": [
       "(2991414, 11)"
      ]
     },
     "execution_count": 94,
     "metadata": {},
     "output_type": "execute_result"
    }
   ],
   "source": [
    "X_core.shape"
   ]
  },
  {
   "cell_type": "code",
   "execution_count": 95,
   "metadata": {},
   "outputs": [],
   "source": [
    "np.savetxt('..\\\\..\\\\DATA\\\\newerrrr_DATA\\\\DELETE_THIS\\\\Core_points.txt', X_core, fmt='%7.2f', delimiter=',')\n",
    "np.savetxt('..\\\\..\\\\DATA\\\\newerrrr_DATA\\\\DELETE_THIS\\\\Edge_points.txt', X_edge, fmt='%7.2f', delimiter=',')"
   ]
  }
 ],
 "metadata": {
  "kernelspec": {
   "display_name": "Python 3 (ipykernel)",
   "language": "python",
   "name": "python3"
  },
  "language_info": {
   "codemirror_mode": {
    "name": "ipython",
    "version": 3
   },
   "file_extension": ".py",
   "mimetype": "text/x-python",
   "name": "python",
   "nbconvert_exporter": "python",
   "pygments_lexer": "ipython3",
   "version": "3.7.4"
  }
 },
 "nbformat": 4,
 "nbformat_minor": 2
}
